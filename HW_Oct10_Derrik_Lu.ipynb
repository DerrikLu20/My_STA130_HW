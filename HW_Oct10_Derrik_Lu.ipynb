{
 "cells": [
  {
   "cell_type": "markdown",
   "id": "c464eb30",
   "metadata": {},
   "source": [
    "### GPT Links: \n",
    "- Question 8: https://chatgpt.com/share/670487d1-db14-800e-84e4-600aa87c5626"
   ]
  },
  {
   "cell_type": "markdown",
   "id": "5d4637b0",
   "metadata": {},
   "source": [
    "#### 2. Towards the end of the \"first pre-lecture\" video (above) it is stated that, \"It is important to note that outcomes of tests refer to the population parameter, rather than the sample statistic! As such, the result that we get is for the population.\" In terms of the distinctions between the concepts of $x_i\\!$'s, $\\bar x$, $\\mu$, and $\\mu_0$, how would you describe what the sentence above means? Explain this concisely in your own words for a \"non-statsitical\" audience, defining the technical statistical terminology you use in your answer.<br>"
   ]
  },
  {
   "cell_type": "markdown",
   "id": "a8f4e3b5",
   "metadata": {},
   "source": [
    "- $x_i\\!$  can be defined as individual values a sample (grade of one person)\n",
    "- $\\bar x$ is the average of the values in a sample (average grade in a sample)\n",
    "- $\\mu$ is the true average for the entire population (the average grade of everyone in the entire class, not just a sample)\n",
    "- $\\mu_0$ is the assumed average that we are testing against (if the average grade is 70, then $\\mu_0$ is 70)\n",
    "\n",
    "When a test gives us a result, it’s only telling us whether or not our sample data (like the$x_i\\!$, and $\\bar x$) says that the true population average is likely different from 𝜇0. Basically, the outcome of the test is about what is happening to the entire population, not just the sample. A sample is like a subset of the entire population. So the results we get from it only affect the sample"
   ]
  },
  {
   "cell_type": "markdown",
   "id": "7baee0ae",
   "metadata": {},
   "source": [
    "#### 4. The second \"Pre-lecture\" video (above) describes suggest that a smaller p-value makes the null hypothesis look more ridiculous. Explain why this is in your own words in a way that makes the most sense to you, clarifying the meaning of any technical statistical terminology you use in your answer."
   ]
  },
  {
   "cell_type": "markdown",
   "id": "d02da07d",
   "metadata": {},
   "source": [
    "- H0: null hypothesis\n",
    "\n",
    "When you get a small p-value, it means that the chance of seeing your data under the assumption that H₀ is true is very low. This is because if you have a high p-value (usually >0.05), it means that your data is consistent with the null hypothesis as its more random, supporting the null hypothesis. So, you do not reject the null hypothesis because the result looks like what you'd expect if the null hypothesis is true. If you have a low p-value (usually <0.05), it means your data is unlikely under the null hypothesis. In this case, you would consider rejecting the null hypothesis because the observed result seems too unusual to be just random chance."
   ]
  },
  {
   "cell_type": "markdown",
   "id": "1c953507",
   "metadata": {},
   "source": [
    "#### 8. Complete the following assignment. "
   ]
  },
  {
   "cell_type": "markdown",
   "id": "674f9956",
   "metadata": {},
   "source": [
    "#### Fisher's Tea Experiment"
   ]
  },
  {
   "cell_type": "markdown",
   "id": "a6044b6c",
   "metadata": {},
   "source": [
    "This project is based on an adaptation of the famous \"Lady Tasting Tea\" experiment by Sir Ronald Fisher, where the ability to distinguish whether milk or tea was poured first is tested. In this modern experiment, we asked 80 STA130 students to identify whether tea or milk was poured first in a cup. Of these students, 49 correctly identified the pouring order. The goal of this analysis is to determine whether the performance of these students can be attributed to random guessing or if their ability to distinguish the order is statistically significant.\n",
    "\n",
    "1.  In the original experiment, Dr. Muriel Bristol claimed she could differentiate between cups of tea based on whether the milk or tea was poured first. Fisher set up a hypothesis test to evaluate whether her ability to correctly identify the pouring order was due to chance or actual ability.\n",
    "\n",
    "- The modern experiment with STA130 students retains the core of Fisher's problem, but on a larger scale:\n",
    "\n",
    "- Population: The population in the original experiment was personalized, focusing on Dr. Bristol's claimed ability. In the modern version, the population consists of a broader group—STA130 students—so the ability being tested is generalized.\n",
    "- Sample Size: The original experiment involved 8 cups, while in this experiment, 80 students each evaluate one cup.\n",
    "The statistical principle underlying both experiments is the same: testing whether an observed ability to differentiate between two conditions is significantly different from random guessing.\n",
    "\n",
    "2. Hypothesis:\n",
    "\n",
    "- Null Hypothesis (H₀): The proportion of students able to correctly identify whether milk or tea was poured first is no better than random guessing, i.e., 𝑝=0.5\n",
    "\n",
    "- Alternative Hypothesis (H₁): The proportion of students able to correctly identify the pouring order is greater than 0.5, i.e., 𝑝>0.5"
   ]
  },
  {
   "cell_type": "markdown",
   "id": "f9b3497c",
   "metadata": {},
   "source": [
    "To test the hypotheses, we will conduct a one-proportion z-test to determine if the observed proportion of correct answers (p hat = 0.6125) is significantly greater than the hypothesized proportion under random guessing (p0 = 0.5).\n",
    "\n",
    "The z-test formula is as follows:\n",
    "\n",
    "z = \\frac{\\hat{p} - p_0}{\\sqrt{\\frac{p_0(1 - p_0)}{n}}}\n",
    "\n",
    "- p hat  = 0.6125 is the sample proportion,\n",
    "- p0 = 0.5 is the hypothesized proportion,\n",
    "- n = 80 is the sample size."
   ]
  },
  {
   "cell_type": "code",
   "execution_count": 1,
   "id": "4a041c3e",
   "metadata": {},
   "outputs": [
    {
     "name": "stdout",
     "output_type": "stream",
     "text": [
      "z-statistic: 2.0125\n",
      "p-value: 0.0221\n"
     ]
    }
   ],
   "source": [
    "import numpy as np\n",
    "from scipy import stats\n",
    "\n",
    "# Reproducibility\n",
    "np.random.seed(42)\n",
    "\n",
    "# Given data\n",
    "n = 80  # sample size\n",
    "x = 49  # number of correct guesses\n",
    "p_hat = x / n  # sample proportion\n",
    "p_0 = 0.5  # hypothesized population proportion under H₀\n",
    "\n",
    "# Standard error calculation\n",
    "standard_error = np.sqrt(p_0 * (1 - p_0) / n)\n",
    "\n",
    "# z-test statistic\n",
    "z = (p_hat - p_0) / standard_error\n",
    "\n",
    "# p-value (for a one-tailed test)\n",
    "p_value = 1 - stats.norm.cdf(z)\n",
    "\n",
    "# Display results\n",
    "print(f\"z-statistic: {z:.4f}\")\n",
    "print(f\"p-value: {p_value:.4f}\")"
   ]
  },
  {
   "cell_type": "markdown",
   "id": "e1e6a4de",
   "metadata": {},
   "source": [
    "Based on the z-test results:\n",
    "\n",
    "- If the p-value is less than 0.05, we conclude that the students' ability to identify whether tea or milk was poured first is statistically significantly better than random guessing.\n",
    "- If the p-value is greater than 0.05, we fail to reject the null hypothesis, suggesting that students' performance is consistent with guessing.\n",
    "- The final conclusion will provide evidence either supporting or refuting the hypothesis that STA130 students can correctly identify the pouring order better than by chance.\n",
    "\n",
    "\n",
    "The z-statistic is approximately 2.01, and the p-value is approximately 0.0221.\n",
    "\n",
    "Since the p-value (0.0221) is less than the typical significance level of 0.05, we reject the null hypothesis (H₀). This suggests that the students' ability to correctly identify whether tea or milk was poured first is statistically significantly better than random guessing. Thus, the conclusion supports the hypothesis that STA130 students can correctly identify the pouring order better than by chance. ​"
   ]
  }
 ],
 "metadata": {
  "kernelspec": {
   "display_name": "Python 3 (ipykernel)",
   "language": "python",
   "name": "python3"
  },
  "language_info": {
   "codemirror_mode": {
    "name": "ipython",
    "version": 3
   },
   "file_extension": ".py",
   "mimetype": "text/x-python",
   "name": "python",
   "nbconvert_exporter": "python",
   "pygments_lexer": "ipython3",
   "version": "3.11.6"
  }
 },
 "nbformat": 4,
 "nbformat_minor": 5
}
