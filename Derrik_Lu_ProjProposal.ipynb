{
 "cells": [
  {
   "cell_type": "markdown",
   "id": "5cedee94",
   "metadata": {},
   "source": [
    "Possible analyses:\n",
    "\n",
    "1. Intelligence and Depression/Sadness: Is there a correlation between the self-perception of intelligence and feelings of depression/sadness? (1162, 1173)\n",
    "2. Forgiveness and Relationship worry: Does a high level of forgiveness correlate with increased worry regarding personal relationships? (1580, 1614)\n",
    "3. Diet and Laziness: Does limiting intake of foods like coffee, sugar, and fats correlate with a self-reported tendency toward laziness? (1983, 1956)"
   ]
  },
  {
   "cell_type": "markdown",
   "id": "da4f8ea4",
   "metadata": {},
   "source": [
    "#1\n",
    "- Variables: (a) Self-rated intelligence and reported frequency/severity of depression. (b) A scatter plot that can visualize correlations, and bar charts of grouped intelligence levels vs. mean depression scores may highlight some trends.\n",
    "- Analysis: (a) Correlation Tests: For each pair, Pearson or Spearman correlation tests to determine association, assuming linearity in Pearson’s case.\n",
    "- (b) Possible Results: If a correlation is found, it could imply that self-image may play a role in emotional health, or the other way around, suggesting that perceptions of intelligence could impact mental well-being.\n",
    "- Relevance: This could raise awareness about the role of self-esteem and self-perception in mental health, supporting advocacy for mental health resources that address these areas."
   ]
  },
  {
   "cell_type": "markdown",
   "id": "96eed3a7",
   "metadata": {},
   "source": [
    "#2 \n",
    "- Variables: (a) A scatter plot or box plot can reveal if higher forgiveness levels correlate with greater worry.\n",
    "- Analysis: (a) Logistic Regression (for categorical responses): If laziness is binary (yes/no), logistic regression might be used, controlling for confounding variables.\n",
    "- Possible Results: (b) A positive correlation might suggest that those who are more forgiving tend to worry more about their relationships, possibly due to higher empathy or attachment.\n",
    "- Relevance: This could provide insight into emotional patterns tied to relationship quality, potentially informing social strategies that promote healthy emotional boundaries and forgiveness."
   ]
  },
  {
   "cell_type": "markdown",
   "id": "5f441bc3",
   "metadata": {},
   "source": [
    "#3 \n",
    "- Variables: (a) Self-reported dietary restrictions and laziness tendency. (b) Stacked bar charts or histograms of laziness scores across diet restriction categories can display distribution patterns.\n",
    "- Analysis: (a) Visuals: Explain how visualizations reveal trends, like group mean scores to indicate average relationships.\n",
    "- Possible Results: (b) If a link exists, it could imply that dietary habits influence perceptions of activity level, or that health-conscious individuals perceive or report their activity differently.\n",
    "- Relevance: This might uncover social perceptions tied to diet and lifestyle, supporting awareness on how lifestyle choices affect self-image and activity levels."
   ]
  }
 ],
 "metadata": {
  "kernelspec": {
   "display_name": "Python 3 (ipykernel)",
   "language": "python",
   "name": "python3"
  },
  "language_info": {
   "codemirror_mode": {
    "name": "ipython",
    "version": 3
   },
   "file_extension": ".py",
   "mimetype": "text/x-python",
   "name": "python",
   "nbconvert_exporter": "python",
   "pygments_lexer": "ipython3",
   "version": "3.11.6"
  }
 },
 "nbformat": 4,
 "nbformat_minor": 5
}
